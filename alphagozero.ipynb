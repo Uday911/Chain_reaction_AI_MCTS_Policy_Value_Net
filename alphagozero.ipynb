{
 "cells": [
  {
   "cell_type": "code",
   "execution_count": 1,
   "metadata": {},
   "outputs": [],
   "source": [
    "import numpy as np\n",
    "import torch.nn as nn\n",
    "import torch.optim as optim\n",
    "import torch.nn.functional as F\n",
    "import torch.autograd.variable as variable\n",
    "import random\n",
    "import time\n",
    "import torch"
   ]
  },
  {
   "cell_type": "code",
   "execution_count": 2,
   "metadata": {},
   "outputs": [],
   "source": [
    "game = np.zeros((9,6))\n",
    "game1 = np.zeros((9,6))\n",
    "game2 = np.zeros((9,6))\n",
    "game3 = np.zeros((9,6))\n",
    "game4 = np.zeros((9,6))\n",
    "game5 = np.zeros((9,6))\n",
    "game6 = np.zeros((9,6))\n",
    "game7 = np.zeros((9,6))"
   ]
  },
  {
   "cell_type": "code",
   "execution_count": 3,
   "metadata": {},
   "outputs": [],
   "source": [
    "for i in range(9):\n",
    "    for j in range(6):\n",
    "        game[i,j] = random.choice([-3,-2,-1,0,1,2,3])\n",
    "        game1[i,j] = random.choice([-3,-2,-1,0,1,2,3])\n",
    "        game2[i,j] = random.choice([-3,-2,-1,0,1,2,3])\n",
    "        game3[i,j] = random.choice([-3,-2,-1,0,1,2,3])\n",
    "        game4[i,j] = random.choice([-3,-2,-1,0,1,2,3])\n",
    "        game5[i,j] = random.choice([-3,-2,-1,0,1,2,3])\n",
    "        game6[i,j] = random.choice([-3,-2,-1,0,1,2,3])\n",
    "        game7[i,j] = random.choice([-3,-2,-1,0,1,2,3])"
   ]
  },
  {
   "cell_type": "code",
   "execution_count": 4,
   "metadata": {},
   "outputs": [],
   "source": [
    "game_tensor = torch.from_numpy(game)\n",
    "game_tensor1 = torch.from_numpy(game1)"
   ]
  },
  {
   "cell_type": "code",
   "execution_count": 26,
   "metadata": {},
   "outputs": [],
   "source": [
    "class Net(nn.Module):\n",
    "    def __init__(self):\n",
    "        super(Net,self).__init__()\n",
    "        self.conv1 = nn.Conv2d(1,1,3,padding=1)\n",
    "#        self.conv2 = nn.Conv2d(54,2,2)\n",
    "#        self.fc1 = nn.Linear(56,54)\n",
    "        \n",
    "    def forward(self,x):\n",
    "        x = self.conv1(x)\n",
    "#        x = self.conv2(x)\n",
    "#        x = x.view(-1,56)\n",
    "#        x = self.fc1(x)\n",
    "        return x"
   ]
  },
  {
   "cell_type": "code",
   "execution_count": 27,
   "metadata": {},
   "outputs": [
    {
     "data": {
      "text/plain": [
       "Net(\n",
       "  (conv1): Conv2d(1, 1, kernel_size=(3, 3), stride=(1, 1), padding=(1, 1))\n",
       ")"
      ]
     },
     "execution_count": 27,
     "metadata": {},
     "output_type": "execute_result"
    }
   ],
   "source": [
    "net = Net()\n",
    "net.double()"
   ]
  },
  {
   "cell_type": "code",
   "execution_count": 28,
   "metadata": {},
   "outputs": [
    {
     "data": {
      "text/plain": [
       "tensor([[[[-0.4065, -1.3777, -0.7117,  1.0310,  0.5766, -0.5657],\n",
       "          [ 1.4918, -1.2335, -0.3641,  2.0793,  0.5985,  0.6906],\n",
       "          [ 1.8756,  0.5901, -0.5644,  0.4180,  1.3643,  0.3870],\n",
       "          [ 0.0253,  0.4761,  1.1827, -0.7043, -0.1772,  1.6060],\n",
       "          [ 0.5090, -0.1465,  1.5238, -0.7480, -0.4228, -0.2096],\n",
       "          [-0.2063,  1.1727,  1.2098,  1.1927,  1.5809, -0.5995],\n",
       "          [-1.0056, -0.7063,  1.2886,  0.2907,  1.8246,  0.9271],\n",
       "          [ 1.2013,  0.3204, -0.3103,  1.5151,  0.7475,  0.5598],\n",
       "          [ 0.4362,  0.9716, -0.7558,  0.0469,  0.9448,  0.3604]]]],\n",
       "       dtype=torch.float64, grad_fn=<ThnnConv2DBackward>)"
      ]
     },
     "execution_count": 28,
     "metadata": {},
     "output_type": "execute_result"
    }
   ],
   "source": [
    "net(game_tensor.view(-1,1,9,6))"
   ]
  },
  {
   "cell_type": "code",
   "execution_count": 10,
   "metadata": {},
   "outputs": [],
   "source": [
    "batch = torch.Tensor([game,game1,game2,game3,game4,game5,game6])"
   ]
  },
  {
   "cell_type": "code",
   "execution_count": 11,
   "metadata": {},
   "outputs": [],
   "source": [
    "objective = nn.CrossEntropyLoss()\n",
    "optimizer = optim.Adam(params=net.parameters())"
   ]
  },
  {
   "cell_type": "code",
   "execution_count": 12,
   "metadata": {},
   "outputs": [
    {
     "data": {
      "text/plain": [
       "tensor([[ 0., -1., -2., -2.,  3.,  1.],\n",
       "        [ 3.,  3., -3.,  3.,  3.,  2.],\n",
       "        [ 1.,  3., -3., -2.,  3., -1.],\n",
       "        [-3.,  1., -1.,  3., -1.,  2.],\n",
       "        [ 1.,  0.,  1.,  3., -3.,  0.],\n",
       "        [-3.,  1.,  0.,  3.,  2.,  3.],\n",
       "        [ 1., -3.,  3.,  0.,  1.,  2.],\n",
       "        [ 3.,  1.,  0.,  1.,  0.,  1.],\n",
       "        [-3.,  2., -2., -2.,  0.,  1.]], dtype=torch.float64)"
      ]
     },
     "execution_count": 12,
     "metadata": {},
     "output_type": "execute_result"
    }
   ],
   "source": [
    "game_tensor"
   ]
  },
  {
   "cell_type": "code",
   "execution_count": 35,
   "metadata": {},
   "outputs": [
    {
     "data": {
      "text/plain": [
       "tensor([[ 3., -2.,  0.,  1.,  3.,  3.],\n",
       "        [ 3.,  0., -1., -2.,  3.,  2.],\n",
       "        [ 1.,  2.,  3., -3.,  0.,  0.],\n",
       "        [ 2.,  0.,  3.,  3.,  0., -3.],\n",
       "        [ 1.,  2., -3.,  1., -1., -2.],\n",
       "        [-2.,  2., -2.,  1., -3.,  3.],\n",
       "        [ 0.,  3., -1.,  1., -1.,  0.],\n",
       "        [-1., -2., -2.,  1., -1., -3.],\n",
       "        [ 2.,  2., -1., -3.,  0., -3.]], dtype=torch.float64)"
      ]
     },
     "execution_count": 35,
     "metadata": {},
     "output_type": "execute_result"
    }
   ],
   "source": [
    "game_tensor[0,0] = 3\n",
    "game_tensor"
   ]
  },
  {
   "cell_type": "code",
   "execution_count": 14,
   "metadata": {},
   "outputs": [
    {
     "name": "stderr",
     "output_type": "stream",
     "text": [
      "C:\\ProgramData\\Anaconda3\\lib\\site-packages\\ipykernel_launcher.py:1: UserWarning: Implicit dimension choice for softmax has been deprecated. Change the call to include dim=X as an argument.\n",
      "  \"\"\"Entry point for launching an IPython kernel.\n"
     ]
    },
    {
     "data": {
      "text/plain": [
       "tensor([0.0213, 0.0220, 0.0211, 0.0251, 0.0372, 0.0148, 0.0221, 0.0246, 0.0136,\n",
       "        0.0122, 0.0232, 0.0283, 0.0170, 0.0389, 0.0202, 0.0193, 0.0351, 0.0106,\n",
       "        0.0177, 0.0229, 0.0253, 0.0342, 0.0137, 0.0146, 0.0147, 0.0086, 0.0110,\n",
       "        0.0076, 0.0268, 0.0089, 0.0128, 0.0227, 0.0127, 0.0244, 0.0150, 0.0189,\n",
       "        0.0185, 0.0055, 0.0086, 0.0110, 0.0072, 0.0288, 0.0185, 0.0159, 0.0092,\n",
       "        0.0317, 0.0154, 0.0228, 0.0140, 0.0087, 0.0189, 0.0128, 0.0152, 0.0183],\n",
       "       dtype=torch.float64, grad_fn=<SelectBackward>)"
      ]
     },
     "execution_count": 14,
     "metadata": {},
     "output_type": "execute_result"
    }
   ],
   "source": [
    "F.softmax(net(game_tensor.view(-1,1,9,6)))[0]"
   ]
  },
  {
   "cell_type": "code",
   "execution_count": 39,
   "metadata": {},
   "outputs": [
    {
     "data": {
      "text/plain": [
       "tensor([[ 0.2905, -0.0255, -0.3059,  0.6814,  0.0350,  0.1762,  0.3526, -0.5123,\n",
       "          0.1447, -0.6922, -0.4696,  0.0970,  0.2543,  0.1365,  0.1489, -0.2115,\n",
       "          1.4305,  0.2972,  0.2118, -0.1558, -0.5841,  0.3955, -0.0618, -0.4130,\n",
       "          0.4219,  0.6944, -0.1954, -0.0453, -0.5068, -0.3491,  0.0613, -0.1798,\n",
       "         -0.2621,  0.1851,  0.1758,  0.8077, -0.0755,  0.2191, -0.2720, -0.6475,\n",
       "         -0.6176, -0.6752, -0.3089, -0.0059, -0.4131, -0.5647,  0.1412,  1.3426,\n",
       "          0.4400,  0.6681, -0.2004,  0.1820,  1.1399,  0.1155]],\n",
       "       dtype=torch.float64, grad_fn=<ThAddmmBackward>)"
      ]
     },
     "execution_count": 39,
     "metadata": {},
     "output_type": "execute_result"
    }
   ],
   "source": [
    "net(game_tensor.view(-1,1,9,6))"
   ]
  },
  {
   "cell_type": "code",
   "execution_count": null,
   "metadata": {},
   "outputs": [],
   "source": []
  },
  {
   "cell_type": "code",
   "execution_count": 56,
   "metadata": {},
   "outputs": [
    {
     "name": "stderr",
     "output_type": "stream",
     "text": [
      "C:\\ProgramData\\Anaconda3\\lib\\site-packages\\ipykernel_launcher.py:1: UserWarning: Implicit dimension choice for softmax has been deprecated. Change the call to include dim=X as an argument.\n",
      "  \"\"\"Entry point for launching an IPython kernel.\n",
      "C:\\ProgramData\\Anaconda3\\lib\\site-packages\\torch\\autograd\\__init__.py:167: UserWarning: torch.autograd.variable(...) is deprecated, use torch.tensor(...) instead\n",
      "  warnings.warn(\"torch.autograd.variable(...) is deprecated, use torch.tensor(...) instead\")\n",
      "C:\\ProgramData\\Anaconda3\\lib\\site-packages\\ipykernel_launcher.py:12: UserWarning: Implicit dimension choice for softmax has been deprecated. Change the call to include dim=X as an argument.\n",
      "  if sys.path[0] == '':\n"
     ]
    },
    {
     "data": {
      "text/plain": [
       "tensor([[0.0135, 0.0119, 0.0179, 0.0202, 0.0261, 0.0137, 0.0166, 0.0122, 0.0123,\n",
       "         0.0446, 0.0457, 0.0262, 0.0239, 0.0230, 0.0227, 0.0075, 0.0228, 0.0125,\n",
       "         0.0349, 0.0109, 0.0176, 0.0178, 0.0171, 0.0102, 0.0137, 0.0118, 0.0175,\n",
       "         0.0219, 0.0113, 0.0117, 0.0154, 0.0172, 0.0120, 0.0235, 0.0114, 0.0217,\n",
       "         0.0189, 0.0174, 0.0242, 0.0176, 0.0347, 0.0068, 0.0123, 0.0116, 0.0160,\n",
       "         0.0132, 0.0150, 0.0266, 0.0309, 0.0130, 0.0189, 0.0141, 0.0095, 0.0285]],\n",
       "       dtype=torch.float64, grad_fn=<SoftmaxBackward>)"
      ]
     },
     "execution_count": 56,
     "metadata": {},
     "output_type": "execute_result"
    }
   ],
   "source": [
    "out = F.softmax(net(game_tensor.view(-1,1,9,6)))\n",
    "target = torch.autograd.variable(torch.LongTensor([10]))\n",
    "\n",
    "\n",
    "loss = objective(out,target)\n",
    "\n",
    "loss.backward()\n",
    "\n",
    "optimizer.step()\n",
    "optimizer.zero_grad()\n",
    "\n",
    "F.softmax(net(game_tensor.view(-1,1,9,6)))"
   ]
  },
  {
   "cell_type": "code",
   "execution_count": 48,
   "metadata": {},
   "outputs": [
    {
     "data": {
      "text/plain": [
       "tensor([[ 0.1724, -0.1602, -0.1393,  0.3736, -0.0419,  0.0132,  0.2545, -0.4734,\n",
       "         -0.1359,  0.0176, -0.4844,  0.1947,  0.3012,  0.1449,  0.0393, -0.3971,\n",
       "          1.0427,  0.0598,  0.1746, -0.2909, -0.5954,  0.0371,  0.0812, -0.6049,\n",
       "          0.1902,  0.2495, -0.3458,  0.1293, -0.5646, -0.3884, -0.0714, -0.0959,\n",
       "         -0.3360,  0.0163, -0.0253,  0.6013, -0.0984,  0.0640, -0.2774, -0.5442,\n",
       "         -0.3878, -0.8104, -0.3431, -0.2226, -0.3514, -0.5406,  0.0736,  0.8828,\n",
       "          0.3260,  0.2379, -0.1305, -0.0281,  0.7098,  0.0324]],\n",
       "       dtype=torch.float64, grad_fn=<ThAddmmBackward>)"
      ]
     },
     "execution_count": 48,
     "metadata": {},
     "output_type": "execute_result"
    }
   ],
   "source": [
    "net(game_tensor.view(-1,1,9,6))"
   ]
  },
  {
   "cell_type": "code",
   "execution_count": 47,
   "metadata": {},
   "outputs": [
    {
     "name": "stderr",
     "output_type": "stream",
     "text": [
      "C:\\ProgramData\\Anaconda3\\lib\\site-packages\\ipykernel_launcher.py:1: UserWarning: Implicit dimension choice for softmax has been deprecated. Change the call to include dim=X as an argument.\n",
      "  \"\"\"Entry point for launching an IPython kernel.\n"
     ]
    },
    {
     "data": {
      "text/plain": [
       "tensor([[0.0214, 0.0154, 0.0157, 0.0262, 0.0173, 0.0183, 0.0232, 0.0112, 0.0157,\n",
       "         0.0183, 0.0111, 0.0219, 0.0244, 0.0208, 0.0187, 0.0121, 0.0511, 0.0191,\n",
       "         0.0215, 0.0135, 0.0099, 0.0187, 0.0195, 0.0098, 0.0218, 0.0231, 0.0128,\n",
       "         0.0205, 0.0102, 0.0122, 0.0168, 0.0164, 0.0129, 0.0183, 0.0176, 0.0329,\n",
       "         0.0163, 0.0192, 0.0137, 0.0105, 0.0122, 0.0080, 0.0128, 0.0144, 0.0127,\n",
       "         0.0105, 0.0194, 0.0436, 0.0250, 0.0229, 0.0158, 0.0175, 0.0366, 0.0186]],\n",
       "       dtype=torch.float64, grad_fn=<SoftmaxBackward>)"
      ]
     },
     "execution_count": 47,
     "metadata": {},
     "output_type": "execute_result"
    }
   ],
   "source": [
    "F.softmax(net(game_tensor.view(-1,1,9,6)))"
   ]
  },
  {
   "cell_type": "code",
   "execution_count": 45,
   "metadata": {},
   "outputs": [],
   "source": [
    "game_tensor[0,0] = 1"
   ]
  },
  {
   "cell_type": "code",
   "execution_count": 46,
   "metadata": {},
   "outputs": [
    {
     "data": {
      "text/plain": [
       "tensor([[ 1., -2.,  0.,  1.,  3.,  3.],\n",
       "        [ 3.,  0., -1., -2.,  3.,  2.],\n",
       "        [ 1.,  2.,  3., -3.,  0.,  0.],\n",
       "        [ 2.,  0.,  3.,  3.,  0., -3.],\n",
       "        [ 1.,  2., -3.,  1., -1., -2.],\n",
       "        [-2.,  2., -2.,  1., -3.,  3.],\n",
       "        [ 0.,  3., -1.,  1., -1.,  0.],\n",
       "        [-1., -2., -2.,  1., -1., -3.],\n",
       "        [ 2.,  2., -1., -3.,  0., -3.]], dtype=torch.float64)"
      ]
     },
     "execution_count": 46,
     "metadata": {},
     "output_type": "execute_result"
    }
   ],
   "source": [
    "game_tensor"
   ]
  },
  {
   "cell_type": "code",
   "execution_count": null,
   "metadata": {},
   "outputs": [],
   "source": []
  }
 ],
 "metadata": {
  "kernelspec": {
   "display_name": "Python 3",
   "language": "python",
   "name": "python3"
  },
  "language_info": {
   "codemirror_mode": {
    "name": "ipython",
    "version": 3
   },
   "file_extension": ".py",
   "mimetype": "text/x-python",
   "name": "python",
   "nbconvert_exporter": "python",
   "pygments_lexer": "ipython3",
   "version": "3.6.1"
  }
 },
 "nbformat": 4,
 "nbformat_minor": 2
}
